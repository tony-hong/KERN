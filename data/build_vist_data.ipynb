{
 "cells": [
  {
   "cell_type": "code",
   "execution_count": 2,
   "metadata": {},
   "outputs": [],
   "source": [
    "# !pip list|grep scipy\n",
    "\n",
    "import math\n",
    "import os\n",
    "import os.path as osp\n",
    "import json\n",
    "from datetime import datetime\n",
    "from pprint import pprint\n",
    "\n",
    "import dill\n",
    "from matplotlib.pyplot import imread\n",
    "# from cv2 import imresize\n",
    "import matplotlib.pyplot as plt\n",
    "%matplotlib inline\n",
    "plt.rcParams['figure.figsize'] = (10, 10)\n",
    "### VIST directory\n",
    "\n",
    "annotations_dir = '/root/xhong/VIST/data/'\n",
    "images_dir = '/root/xhong/VIST/images'\n"
   ]
  },
  {
   "cell_type": "code",
   "execution_count": 3,
   "metadata": {},
   "outputs": [
    {
     "name": "stdout",
     "output_type": "stream",
     "text": [
      "dii's [test] loaded. It took 0.37 seconds.\n",
      "sis's [test] loaded. It took 0.39 seconds.\n",
      "dii's [train] loaded. It took 2.35 seconds.\n",
      "sis's [train] loaded. It took 2.99 seconds.\n",
      "dii's [val] loaded. It took 0.47 seconds.\n",
      "sis's [val] loaded. It took 0.37 seconds.\n"
     ]
    }
   ],
   "source": [
    "split = 'test'\n",
    "# Load dii's split json\n",
    "b = datetime.now()\n",
    "path_to_dii_val = osp.join(annotations_dir, 'dii', split+'.description-in-isolation.json')\n",
    "dii_test = json.load(open(path_to_dii_val))\n",
    "print ('dii\\'s [%s] loaded. It took %.2f seconds.' % (split, (datetime.now() - b).total_seconds()))\n",
    "\n",
    "# Load sis's split json\n",
    "b = datetime.now()\n",
    "path_to_sis_val = osp.join(annotations_dir, 'sis', split+'.story-in-sequence.json')\n",
    "sis_test = json.load(open(path_to_sis_val))\n",
    "print ('sis\\'s [%s] loaded. It took %.2f seconds.' % (split, (datetime.now() - b).total_seconds()))\n",
    "\n",
    "split = 'train'\n",
    "# Load dii's split json\n",
    "b = datetime.now()\n",
    "path_to_dii_val = osp.join(annotations_dir, 'dii', split+'.description-in-isolation.json')\n",
    "dii_train = json.load(open(path_to_dii_val))\n",
    "print ('dii\\'s [%s] loaded. It took %.2f seconds.' % (split, (datetime.now() - b).total_seconds()))\n",
    "\n",
    "# Load sis's split json\n",
    "b = datetime.now()\n",
    "path_to_sis_val = osp.join(annotations_dir, 'sis', split+'.story-in-sequence.json')\n",
    "sis_train = json.load(open(path_to_sis_val))\n",
    "print ('sis\\'s [%s] loaded. It took %.2f seconds.' % (split, (datetime.now() - b).total_seconds()))\n",
    "\n",
    "\n",
    "split = 'val'\n",
    "# Load dii's split json\n",
    "b = datetime.now()\n",
    "path_to_dii_val = osp.join(annotations_dir, 'dii', split+'.description-in-isolation.json')\n",
    "dii_val = json.load(open(path_to_dii_val))\n",
    "print ('dii\\'s [%s] loaded. It took %.2f seconds.' % (split, (datetime.now() - b).total_seconds()))\n",
    "\n",
    "# Load sis's split json\n",
    "b = datetime.now()\n",
    "path_to_sis_val = osp.join(annotations_dir, 'sis', split+'.story-in-sequence.json')\n",
    "sis_val = json.load(open(path_to_sis_val))\n",
    "print ('sis\\'s [%s] loaded. It took %.2f seconds.' % (split, (datetime.now() - b).total_seconds()))"
   ]
  },
  {
   "cell_type": "code",
   "execution_count": 4,
   "metadata": {},
   "outputs": [],
   "source": [
    "SPLIT = 'all'\n",
    "if SPLIT == 'train':\n",
    "    all_imgs = sis_train['images']\n",
    "    all_albums = sis_train['albums']\n",
    "    all_annotations = sis_train['annotations']\n",
    "elif SPLIT == 'val':\n",
    "    all_imgs = sis_val['images']\n",
    "    all_albums = sis_val['albums']\n",
    "    all_annotations = sis_val['annotations']\n",
    "elif SPLIT == 'test':\n",
    "    all_imgs = sis_test['images']\n",
    "    all_albums = sis_test['albums']\n",
    "    all_annotations = sis_test['annotations']\n",
    "else: \n",
    "    all_imgs = sis_test['images'] + sis_train['images'] + sis_val['images']\n",
    "    all_albums = sis_test['albums'] + sis_train['albums'] + sis_val['albums']\n",
    "    all_annotations = sis_test['annotations'] + sis_train['annotations'] + sis_val['annotations']"
   ]
  },
  {
   "cell_type": "code",
   "execution_count": 5,
   "metadata": {},
   "outputs": [],
   "source": [
    "Images = {item['id']: item for item in all_imgs}\n",
    "Albums = {item['id']: item for item in all_albums}\n",
    "\n",
    "sis_all = {}\n",
    "sis_all['images'] = sis_test['images'] + sis_train['images'] + sis_val['images']\n",
    "sis_all['albums'] = sis_test['albums'] + sis_train['albums'] + sis_val['albums']\n",
    "sis_all['annotations'] = sis_test['annotations'] + sis_train['annotations'] + sis_val['annotations']"
   ]
  },
  {
   "cell_type": "code",
   "execution_count": 6,
   "metadata": {},
   "outputs": [
    {
     "data": {
      "text/plain": [
       "{'datetaken': '2007-04-01 02:35:42',\n",
       " 'license': '1',\n",
       " 'title': '',\n",
       " 'text': '',\n",
       " 'album_id': '72157600041652858',\n",
       " 'longitude': '0',\n",
       " 'url_o': 'https://farm1.staticflickr.com/178/443081003_618af974d4_o.jpg',\n",
       " 'secret': '7bafba874a',\n",
       " 'media': 'photo',\n",
       " 'latitude': '0',\n",
       " 'id': '443081003',\n",
       " 'tags': 'minneapolis latenight mn'}"
      ]
     },
     "execution_count": 6,
     "metadata": {},
     "output_type": "execute_result"
    }
   ],
   "source": [
    "with open('sample_imageIDs.pkl', 'rb') as f:\n",
    "    sample_imageIDs = dill.load(f)\n",
    "sample_images = [Images[imgID] for imgID in sample_imageIDs]\n",
    "sis_example = {}\n",
    "sis_example['images'] = sample_images\n",
    "sample_images[0]"
   ]
  },
  {
   "cell_type": "code",
   "execution_count": 7,
   "metadata": {},
   "outputs": [
    {
     "data": {
      "text/plain": [
       "{'datetaken': '2008-06-30 07:33:43',\n",
       " 'license': '5',\n",
       " 'title': 'Moreton Bay Fig 1877',\n",
       " 'text': '',\n",
       " 'album_id': '72157605930515606',\n",
       " 'longitude': '-119.692879',\n",
       " 'url_o': 'https://farm3.staticflickr.com/2078/2626977325_2b7696990c_o.jpg',\n",
       " 'secret': 'bec0ff3596',\n",
       " 'media': 'photo',\n",
       " 'latitude': '34.414760',\n",
       " 'id': '2626977325',\n",
       " 'tags': 'santabarbara'}"
      ]
     },
     "execution_count": 7,
     "metadata": {},
     "output_type": "execute_result"
    }
   ],
   "source": [
    "Images['2626977325']"
   ]
  },
  {
   "cell_type": "code",
   "execution_count": 13,
   "metadata": {},
   "outputs": [
    {
     "data": {
      "text/plain": [
       "{'datetaken': '2008-06-30 07:33:43',\n",
       " 'license': '5',\n",
       " 'title': 'Moreton Bay Fig 1877',\n",
       " 'text': '',\n",
       " 'album_id': '72157605930515606',\n",
       " 'longitude': '-119.692879',\n",
       " 'url_o': 'https://farm3.staticflickr.com/2078/2626977325_2b7696990c_o.jpg',\n",
       " 'secret': 'bec0ff3596',\n",
       " 'media': 'photo',\n",
       " 'latitude': '34.414760',\n",
       " 'id': '2626977325',\n",
       " 'tags': 'santabarbara'}"
      ]
     },
     "execution_count": 13,
     "metadata": {},
     "output_type": "execute_result"
    }
   ],
   "source": [
    "sis_train['images'][0]"
   ]
  },
  {
   "cell_type": "code",
   "execution_count": 10,
   "metadata": {},
   "outputs": [
    {
     "data": {
      "text/plain": [
       "167528"
      ]
     },
     "execution_count": 10,
     "metadata": {},
     "output_type": "execute_result"
    }
   ],
   "source": [
    "len(sis_train['images'])"
   ]
  },
  {
   "cell_type": "code",
   "execution_count": 11,
   "metadata": {},
   "outputs": [
    {
     "data": {
      "text/plain": [
       "21048"
      ]
     },
     "execution_count": 11,
     "metadata": {},
     "output_type": "execute_result"
    }
   ],
   "source": [
    "len(sis_val['images'])"
   ]
  },
  {
   "cell_type": "code",
   "execution_count": 12,
   "metadata": {},
   "outputs": [
    {
     "data": {
      "text/plain": [
       "21075"
      ]
     },
     "execution_count": 12,
     "metadata": {},
     "output_type": "execute_result"
    }
   ],
   "source": [
    "len(sis_test['images'])"
   ]
  },
  {
   "cell_type": "code",
   "execution_count": 14,
   "metadata": {},
   "outputs": [],
   "source": [
    "train_IDs = set([x['id'] for x in sis_train['images']])\n",
    "val_IDs = set([x['id'] for x in sis_val['images']])\n",
    "test_IDs = set([x['id'] for x in sis_test['images']])"
   ]
  },
  {
   "cell_type": "code",
   "execution_count": 19,
   "metadata": {},
   "outputs": [
    {
     "data": {
      "text/plain": [
       "167528"
      ]
     },
     "execution_count": 19,
     "metadata": {},
     "output_type": "execute_result"
    }
   ],
   "source": [
    "len(train_IDs - val_IDs)"
   ]
  },
  {
   "cell_type": "code",
   "execution_count": 20,
   "metadata": {},
   "outputs": [
    {
     "data": {
      "text/plain": [
       "167528"
      ]
     },
     "execution_count": 20,
     "metadata": {},
     "output_type": "execute_result"
    }
   ],
   "source": [
    "len(train_IDs - test_IDs)"
   ]
  },
  {
   "cell_type": "code",
   "execution_count": null,
   "metadata": {},
   "outputs": [],
   "source": []
  },
  {
   "cell_type": "code",
   "execution_count": 8,
   "metadata": {},
   "outputs": [],
   "source": [
    "import json\n",
    "import h5py\n",
    "\n",
    "NUM_TRAIN = 167092\n",
    "NUM_VAL = 21023\n",
    "NUM_TEST = 20991"
   ]
  },
  {
   "cell_type": "code",
   "execution_count": 22,
   "metadata": {
    "collapsed": true
   },
   "outputs": [
    {
     "name": "stdout",
     "output_type": "stream",
     "text": [
      "open: 6859 5560161\n",
      "open: 6860 5560248\n",
      "open: 6861 5559824\n",
      "open: 6862 5559841\n",
      "open: 6863 5372172\n",
      "open: 6864 5559871\n",
      "open: 6865 5372170\n",
      "open: 6866 5372171\n",
      "open: 6867 8368070\n",
      "open: 6868 5559923\n",
      "open: 6869 5559946\n",
      "open: 6870 5559960\n",
      "open: 6871 5560183\n",
      "open: 6872 5560286\n",
      "open: 6873 5559702\n",
      "open: 6874 5372169\n",
      "open: 6875 5559715\n",
      "open: 6876 5559740\n",
      "open: 6877 5559783\n",
      "open: 6878 5559804\n",
      "open: 6879 5372178\n",
      "open: 6880 5559493\n",
      "open: 6881 5560005\n",
      "open: 6882 8368165\n",
      "open: 6883 5560203\n",
      "open: 6884 8368019\n",
      "open: 6885 8367978\n",
      "open: 6886 28068255\n",
      "open: 6887 28068358\n",
      "open: 6888 28068415\n",
      "open: 6889 28072969\n",
      "open: 6890 28068543\n",
      "open: 6891 28068653\n",
      "open: 6892 28068711\n",
      "open: 6893 28069124\n",
      "open: 6894 28069172\n",
      "open: 6895 28069231\n",
      "open: 6896 28069327\n",
      "open: 6897 28069367\n",
      "open: 6898 28069444\n",
      "open: 6899 28069494\n",
      "open: 6900 28069555\n",
      "open: 6901 28365220\n",
      "open: 6902 28069659\n",
      "open: 6903 28069741\n",
      "open: 6904 28069808\n",
      "open: 6905 28069879\n",
      "open: 6906 28069995\n",
      "open: 6907 28070297\n",
      "open: 6908 28070355\n",
      "open: 6909 28070468\n",
      "open: 6910 28073009\n",
      "open: 6911 28073065\n",
      "open: 6912 28073129\n",
      "open: 6913 28080550\n",
      "open: 6914 582919857\n",
      "open: 6915 583264236\n",
      "open: 6916 582918919\n",
      "open: 6917 582922779\n",
      "open: 6918 582915129\n"
     ]
    }
   ],
   "source": [
    "from PIL import Image\n",
    "from shutil import copyfile\n",
    "\n",
    "DEBUG_IDX = 6889\n",
    "for imageID in range(DEBUG_IDX-30, DEBUG_IDX+30):\n",
    "    imageID_str = str(sis_val['images'][imageID]['id'])\n",
    "    img_path = os.path.join(images_dir, 'val', imageID_str+'.jpg')\n",
    "    dst_path = os.path.join(images_dir, 'debug', imageID_str+'.jpg')\n",
    "    copyfile(img_path, dst_path)\n",
    "    \n",
    "    #Image.open(img_path).convert('RGB')\n",
    "    print('open:' , imageID, imageID_str)\n",
    "    \n",
    "sis_debug = {}\n",
    "sis_debug['images'] = sis_val['images'][DEBUG_IDX-30:DEBUG_IDX+30]\n",
    "# sis_debug['images'] = sis_val['images'][5187-30:5187+30]\n",
    "# sis_debug['images'] = sis_val['images'][5187-30:5187+30]"
   ]
  },
  {
   "cell_type": "code",
   "execution_count": 10,
   "metadata": {},
   "outputs": [],
   "source": []
  },
  {
   "cell_type": "code",
   "execution_count": null,
   "metadata": {},
   "outputs": [],
   "source": []
  },
  {
   "cell_type": "code",
   "execution_count": null,
   "metadata": {},
   "outputs": [],
   "source": []
  },
  {
   "cell_type": "code",
   "execution_count": 23,
   "metadata": {},
   "outputs": [
    {
     "data": {
      "text/plain": [
       "dict_keys(['object_count', 'idx_to_label', 'predicate_to_idx', 'predicate_count', 'idx_to_predicate', 'label_to_idx'])"
      ]
     },
     "execution_count": 23,
     "metadata": {},
     "output_type": "execute_result"
    }
   ],
   "source": [
    "VG_SGG_dicts = json.load(open('stanford_filtered/VG-SGG-dicts.json'))\n",
    "VG_SGG_dicts.keys()"
   ]
  },
  {
   "cell_type": "code",
   "execution_count": null,
   "metadata": {},
   "outputs": [],
   "source": []
  },
  {
   "cell_type": "code",
   "execution_count": 24,
   "metadata": {},
   "outputs": [
    {
     "data": {
      "text/plain": [
       "108077"
      ]
     },
     "execution_count": 24,
     "metadata": {},
     "output_type": "execute_result"
    }
   ],
   "source": [
    "VG_image_data = json.load(open('stanford_filtered/image_data.json'))\n",
    "len(VG_image_data)"
   ]
  },
  {
   "cell_type": "code",
   "execution_count": 25,
   "metadata": {},
   "outputs": [
    {
     "data": {
      "text/plain": [
       "{'width': 800,\n",
       " 'url': 'https://cs.stanford.edu/people/rak248/VG_100K/2.jpg',\n",
       " 'height': 600,\n",
       " 'image_id': 2,\n",
       " 'coco_id': None,\n",
       " 'flickr_id': None}"
      ]
     },
     "execution_count": 25,
     "metadata": {},
     "output_type": "execute_result"
    }
   ],
   "source": [
    "VG_image_data[1]"
   ]
  },
  {
   "cell_type": "code",
   "execution_count": 26,
   "metadata": {},
   "outputs": [],
   "source": [
    "from collections import defaultdict\n",
    "\n",
    "temp_entry = VG_image_data[0]\n",
    "img_num_dict = defaultdict(int)\n",
    "for split in {'train', 'val', 'test', 'all', 'example', 'debug'}:\n",
    "    VIST_image_data = []\n",
    "    for img in eval('sis_'+split)['images']:\n",
    "        filename = os.path.join(images_dir, split, img['id'] + '.jpg')\n",
    "        if os.path.exists(filename):\n",
    "            VIST_image_entry = temp_entry.copy()\n",
    "            VIST_image_entry['url'] = img.get('url_o', '')\n",
    "            VIST_image_entry['image_id'] = img['id']\n",
    "            VIST_image_entry['coco_id'] = ''\n",
    "            VIST_image_entry['flickr_id'] = img['id']\n",
    "            VIST_image_data.append(VIST_image_entry)\n",
    "            img_num_dict[split] += 1\n",
    "    VIST_image_data_path = os.path.join('vist_'+split, 'VIST_image_data.json')\n",
    "    with open(VIST_image_data_path, 'w') as f:\n",
    "        json.dump(VIST_image_data, f)\n",
    "    VIST_dict_path = os.path.join('vist_'+split, 'VIST_SGG_dicts.json')\n",
    "    with open(VIST_dict_path, 'w') as f:\n",
    "        json.dump(VG_SGG_dicts, f)"
   ]
  },
  {
   "cell_type": "code",
   "execution_count": null,
   "metadata": {},
   "outputs": [],
   "source": []
  },
  {
   "cell_type": "code",
   "execution_count": 27,
   "metadata": {},
   "outputs": [
    {
     "data": {
      "text/plain": [
       "<KeysViewHDF5 ['active_object_mask', 'boxes_1024', 'boxes_512', 'img_to_first_box', 'img_to_first_rel', 'img_to_last_box', 'img_to_last_rel', 'labels', 'predicates', 'relationships', 'split']>"
      ]
     },
     "execution_count": 27,
     "metadata": {},
     "output_type": "execute_result"
    }
   ],
   "source": [
    "VG_SGG_f = h5py.File('stanford_filtered/VG-SGG.h5')\n",
    "VG_SGG_f.keys()"
   ]
  },
  {
   "cell_type": "code",
   "execution_count": 28,
   "metadata": {},
   "outputs": [
    {
     "name": "stdout",
     "output_type": "stream",
     "text": [
      "active_object_mask (1145398, 1)\n",
      "boxes_1024 (1145398, 4)\n",
      "boxes_512 (1145398, 4)\n",
      "img_to_first_box (108073,)\n",
      "img_to_first_rel (108073,)\n",
      "img_to_last_box (108073,)\n",
      "img_to_last_rel (108073,)\n",
      "labels (1145398, 1)\n",
      "predicates (622705, 1)\n",
      "relationships (622705, 2)\n",
      "split (108073,)\n"
     ]
    }
   ],
   "source": [
    "for key in VG_SGG_f.keys():\n",
    "    print (key, VG_SGG_f[key].shape)"
   ]
  },
  {
   "cell_type": "code",
   "execution_count": null,
   "metadata": {},
   "outputs": [],
   "source": []
  },
  {
   "cell_type": "code",
   "execution_count": 29,
   "metadata": {},
   "outputs": [
    {
     "name": "stdout",
     "output_type": "stream",
     "text": [
      "test 20991\n",
      "test img_to_first_box placeholder 0\n",
      "test img_to_last_rel placeholder 28\n",
      "test img_to_first_rel placeholder 0\n",
      "test img_to_last_box placeholder 22\n",
      "val 21023\n",
      "val img_to_first_box placeholder 0\n",
      "val img_to_last_rel placeholder 28\n",
      "val img_to_first_rel placeholder 0\n",
      "val img_to_last_box placeholder 22\n",
      "debug 60\n",
      "debug img_to_first_box placeholder 0\n",
      "debug img_to_last_rel placeholder 28\n",
      "debug img_to_first_rel placeholder 0\n",
      "debug img_to_last_box placeholder 22\n",
      "all 209104\n",
      "all img_to_first_box placeholder 0\n",
      "all img_to_last_rel placeholder 28\n",
      "all img_to_first_rel placeholder 0\n",
      "all img_to_last_box placeholder 22\n",
      "example 110\n",
      "example img_to_first_box placeholder 0\n",
      "example img_to_last_rel placeholder 28\n",
      "example img_to_first_rel placeholder 0\n",
      "example img_to_last_box placeholder 22\n",
      "train 167090\n",
      "train img_to_first_box placeholder 0\n",
      "train img_to_last_rel placeholder 28\n",
      "train img_to_first_rel placeholder 0\n",
      "train img_to_last_box placeholder 22\n"
     ]
    }
   ],
   "source": [
    "for split in {'train', 'val', 'test', 'all', 'example', 'debug'}:\n",
    "    image_len = img_num_dict[split]\n",
    "    print (split, image_len)\n",
    "    \n",
    "    VIST_sgg_path = os.path.join('vist_'+split, 'VIST_SGG.h5')\n",
    "    VIST_SGG = h5py.File(VIST_sgg_path, 'w')\n",
    "    chage_set = {'img_to_first_box', 'img_to_first_rel', 'img_to_last_box', 'img_to_last_rel'}\n",
    "    other_set = VG_SGG_f.keys() - chage_set - {'split'}\n",
    "    for key in chage_set:\n",
    "        VIST_SGG.create_dataset(key, (image_len,), VG_SGG_f[key].dtype)\n",
    "        placeholder = VG_SGG_f[key][0]\n",
    "        print (split, key, 'placeholder', placeholder)\n",
    "        VIST_SGG[key][:] = placeholder\n",
    "    for key in other_set:\n",
    "        VIST_SGG.create_dataset(key, VG_SGG_f[key].shape, VG_SGG_f[key].dtype)\n",
    "        VIST_SGG[key][:] = VG_SGG_f[key][:]\n",
    "    VIST_SGG.create_dataset('split', (image_len,), VG_SGG_f['split'].dtype)\n",
    "    VIST_SGG['split'][:] = 2"
   ]
  },
  {
   "cell_type": "code",
   "execution_count": null,
   "metadata": {},
   "outputs": [],
   "source": []
  },
  {
   "cell_type": "code",
   "execution_count": null,
   "metadata": {},
   "outputs": [],
   "source": []
  },
  {
   "cell_type": "code",
   "execution_count": null,
   "metadata": {},
   "outputs": [],
   "source": []
  },
  {
   "cell_type": "code",
   "execution_count": 207,
   "metadata": {},
   "outputs": [
    {
     "name": "stdout",
     "output_type": "stream",
     "text": [
      "img_to_last_box placeholder 22\n",
      "img_to_first_box placeholder 0\n",
      "img_to_last_rel placeholder 28\n",
      "img_to_first_rel placeholder 0\n",
      "split dtype int32\n"
     ]
    }
   ],
   "source": [
    "# testing on one split\n",
    "\n",
    "split = 'example'\n",
    "image_len = len(eval('sis_'+split)['images'])\n",
    "VIST_sgg_path = os.path.join('vist_'+split, 'VIST_SGG.h5')\n",
    "VIST_SGG = h5py.File(VIST_sgg_path, 'w')\n",
    "chage_set = {'img_to_first_box', 'img_to_first_rel', 'img_to_last_box', 'img_to_last_rel'}\n",
    "other_set = VG_SGG_f.keys() - chage_set - {'split'}\n",
    "for key in chage_set: \n",
    "    VIST_SGG.create_dataset(key, (image_len,), VG_SGG_f[key].dtype)\n",
    "    placeholder = VG_SGG_f[key][0]\n",
    "    print (split, key, 'placeholder', placeholder)\n",
    "    VIST_SGG[key][:] = placeholder\n",
    "for key in other_set: \n",
    "    VIST_SGG.create_dataset(key, VG_SGG_f[key].shape, VG_SGG_f[key].dtype)\n",
    "    VIST_SGG[key][:] = VG_SGG_f[key][:]\n",
    "VIST_SGG.create_dataset('split', (image_len,), VG_SGG_f['split'].dtype)\n",
    "VIST_SGG['split'][:] = 2\n",
    "print ('split', 'dtype', VG_SGG_f['split'].dtype)"
   ]
  },
  {
   "cell_type": "code",
   "execution_count": 223,
   "metadata": {},
   "outputs": [
    {
     "data": {
      "text/plain": [
       "<KeysViewHDF5 ['active_object_mask', 'boxes_1024', 'boxes_512', 'img_to_first_box', 'img_to_first_rel', 'img_to_last_box', 'img_to_last_rel', 'labels', 'predicates', 'relationships', 'split']>"
      ]
     },
     "execution_count": 223,
     "metadata": {},
     "output_type": "execute_result"
    }
   ],
   "source": [
    "VIST_example_SGG = h5py.File('vist_example/VIST_example_SGG.h5')\n",
    "VIST_example_SGG.keys()"
   ]
  },
  {
   "cell_type": "code",
   "execution_count": 211,
   "metadata": {},
   "outputs": [
    {
     "name": "stdout",
     "output_type": "stream",
     "text": [
      "active_object_mask (1145398, 1)\n",
      "boxes_1024 (1145398, 4)\n",
      "boxes_512 (1145398, 4)\n",
      "img_to_first_box (110,)\n",
      "img_to_first_rel (110,)\n",
      "img_to_last_box (110,)\n",
      "img_to_last_rel (110,)\n",
      "labels (1145398, 1)\n",
      "predicates (622705, 1)\n",
      "relationships (622705, 2)\n",
      "split (110,)\n"
     ]
    }
   ],
   "source": [
    "for key in VIST_example_SGG.keys():\n",
    "    print (key, VIST_example_SGG[key].shape)"
   ]
  },
  {
   "cell_type": "code",
   "execution_count": null,
   "metadata": {},
   "outputs": [],
   "source": []
  },
  {
   "cell_type": "code",
   "execution_count": null,
   "metadata": {},
   "outputs": [],
   "source": []
  }
 ],
 "metadata": {
  "kernelspec": {
   "display_name": "Python 3",
   "language": "python",
   "name": "python3"
  },
  "language_info": {
   "codemirror_mode": {
    "name": "ipython",
    "version": 3
   },
   "file_extension": ".py",
   "mimetype": "text/x-python",
   "name": "python",
   "nbconvert_exporter": "python",
   "pygments_lexer": "ipython3",
   "version": "3.6.10"
  }
 },
 "nbformat": 4,
 "nbformat_minor": 2
}
