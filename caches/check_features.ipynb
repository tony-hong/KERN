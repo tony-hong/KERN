{
 "cells": [
  {
   "cell_type": "code",
   "execution_count": 11,
   "metadata": {},
   "outputs": [],
   "source": [
    "import h5py\n",
    "import numpy as np"
   ]
  },
  {
   "cell_type": "code",
   "execution_count": null,
   "metadata": {},
   "outputs": [],
   "source": []
  },
  {
   "cell_type": "code",
   "execution_count": null,
   "metadata": {},
   "outputs": [],
   "source": []
  },
  {
   "cell_type": "code",
   "execution_count": 12,
   "metadata": {
    "scrolled": true
   },
   "outputs": [
    {
     "data": {
      "text/plain": [
       "110"
      ]
     },
     "execution_count": 12,
     "metadata": {},
     "output_type": "execute_result"
    }
   ],
   "source": [
    "VIST_example_fmap = h5py.File('VIST_example_fmap.h5', 'r')\n",
    "len(VIST_example_fmap.keys())"
   ]
  },
  {
   "cell_type": "code",
   "execution_count": 13,
   "metadata": {},
   "outputs": [],
   "source": [
    "for k in VIST_example_fmap.keys():\n",
    "    pass"
   ]
  },
  {
   "cell_type": "code",
   "execution_count": 14,
   "metadata": {},
   "outputs": [
    {
     "data": {
      "text/plain": [
       "(1, 512, 37, 37)"
      ]
     },
     "execution_count": 14,
     "metadata": {},
     "output_type": "execute_result"
    }
   ],
   "source": [
    "VIST_example_fmap['10'].shape"
   ]
  },
  {
   "cell_type": "code",
   "execution_count": 15,
   "metadata": {},
   "outputs": [],
   "source": [
    "# VIST_example_fmap['10'][0, :, 0, 0]"
   ]
  },
  {
   "cell_type": "code",
   "execution_count": null,
   "metadata": {},
   "outputs": [],
   "source": []
  },
  {
   "cell_type": "code",
   "execution_count": 16,
   "metadata": {
    "scrolled": true
   },
   "outputs": [
    {
     "data": {
      "text/plain": [
       "21017"
      ]
     },
     "execution_count": 16,
     "metadata": {},
     "output_type": "execute_result"
    }
   ],
   "source": [
    "VIST_val_fmap = h5py.File('VIST_val_fmap.h5', 'r')\n",
    "len(VIST_val_fmap.keys())"
   ]
  },
  {
   "cell_type": "code",
   "execution_count": 17,
   "metadata": {},
   "outputs": [
    {
     "data": {
      "text/plain": [
       "21022"
      ]
     },
     "execution_count": 17,
     "metadata": {},
     "output_type": "execute_result"
    }
   ],
   "source": [
    "max([int(k) for k in VIST_val_fmap.keys()])"
   ]
  },
  {
   "cell_type": "code",
   "execution_count": null,
   "metadata": {},
   "outputs": [],
   "source": []
  },
  {
   "cell_type": "code",
   "execution_count": 18,
   "metadata": {},
   "outputs": [
    {
     "data": {
      "text/plain": [
       "20988"
      ]
     },
     "execution_count": 18,
     "metadata": {},
     "output_type": "execute_result"
    }
   ],
   "source": [
    "VIST_test_fmap = h5py.File('VIST_test_fmap.h5', 'r')\n",
    "len(VIST_test_fmap.keys())"
   ]
  },
  {
   "cell_type": "code",
   "execution_count": 19,
   "metadata": {},
   "outputs": [],
   "source": [
    "for k in VIST_test_fmap.keys():\n",
    "    pass"
   ]
  },
  {
   "cell_type": "code",
   "execution_count": null,
   "metadata": {},
   "outputs": [],
   "source": []
  },
  {
   "cell_type": "code",
   "execution_count": null,
   "metadata": {},
   "outputs": [],
   "source": []
  },
  {
   "cell_type": "code",
   "execution_count": 20,
   "metadata": {},
   "outputs": [
    {
     "data": {
      "text/plain": [
       "110"
      ]
     },
     "execution_count": 20,
     "metadata": {},
     "output_type": "execute_result"
    }
   ],
   "source": [
    "VIST_example_obj_fmap = h5py.File('VIST_example_obj_fmap.h5', 'r')\n",
    "len(VIST_example_obj_fmap.keys())"
   ]
  },
  {
   "cell_type": "code",
   "execution_count": 21,
   "metadata": {},
   "outputs": [
    {
     "data": {
      "text/plain": [
       "<KeysViewHDF5 ['0', '1', '10', '100', '101', '102', '103', '104', '105', '106', '107', '108', '109', '11', '12', '13', '14', '15', '16', '17', '18', '19', '2', '20', '21', '22', '23', '24', '25', '26', '27', '28', '29', '3', '30', '31', '32', '33', '34', '35', '36', '37', '38', '39', '4', '40', '41', '42', '43', '44', '45', '46', '47', '48', '49', '5', '50', '51', '52', '53', '54', '55', '56', '57', '58', '59', '6', '60', '61', '62', '63', '64', '65', '66', '67', '68', '69', '7', '70', '71', '72', '73', '74', '75', '76', '77', '78', '79', '8', '80', '81', '82', '83', '84', '85', '86', '87', '88', '89', '9', '90', '91', '92', '93', '94', '95', '96', '97', '98', '99']>"
      ]
     },
     "execution_count": 21,
     "metadata": {},
     "output_type": "execute_result"
    }
   ],
   "source": [
    "VIST_example_obj_fmap.keys()"
   ]
  },
  {
   "cell_type": "code",
   "execution_count": 22,
   "metadata": {},
   "outputs": [
    {
     "data": {
      "text/plain": [
       "(64, 4096)"
      ]
     },
     "execution_count": 22,
     "metadata": {},
     "output_type": "execute_result"
    }
   ],
   "source": [
    "VIST_example_obj_fmap['10'].shape"
   ]
  },
  {
   "cell_type": "code",
   "execution_count": 23,
   "metadata": {
    "collapsed": true
   },
   "outputs": [
    {
     "name": "stdout",
     "output_type": "stream",
     "text": [
      "0 <HDF5 dataset \"0\": shape (64, 4096), type \"<f4\">\n",
      "[0.02814754 0.00503074 0.03090706 ... 0.01165713 0.00233698 0.02271476]\n",
      "1 <HDF5 dataset \"1\": shape (64, 4096), type \"<f4\">\n",
      "[0.01349307 0.04231006 0.04058608 ... 0.05359643 0.03571505 0.01974095]\n",
      "10 <HDF5 dataset \"10\": shape (64, 4096), type \"<f4\">\n",
      "[0.00125645 0.01231863 0.01206672 ... 0.05040733 0.15967956 0.02498051]\n",
      "100 <HDF5 dataset \"100\": shape (64, 4096), type \"<f4\">\n",
      "[5.2892799e-03 7.0752405e-02 6.9695234e-02 ... 1.4825205e-02 5.1509898e-02\n",
      " 2.4888235e-05]\n",
      "101 <HDF5 dataset \"101\": shape (64, 4096), type \"<f4\">\n",
      "[0.01243369 0.03137998 0.03577782 ... 0.00653092 0.0774489  0.00449815]\n",
      "102 <HDF5 dataset \"102\": shape (64, 4096), type \"<f4\">\n",
      "[0.02338076 0.02080241 0.02369728 ... 0.02904405 0.08725914 0.07107975]\n",
      "103 <HDF5 dataset \"103\": shape (64, 4096), type \"<f4\">\n",
      "[0.00181055 0.0376429  0.02302538 ... 0.01879059 0.17794213 0.03510687]\n",
      "104 <HDF5 dataset \"104\": shape (64, 4096), type \"<f4\">\n",
      "[0.00980411 0.04607674 0.05387633 ... 0.02965902 0.01161486 0.04457575]\n",
      "105 <HDF5 dataset \"105\": shape (64, 4096), type \"<f4\">\n",
      "[0.00760512 0.01665497 0.02153565 ... 0.02237224 0.07951433 0.05620968]\n",
      "106 <HDF5 dataset \"106\": shape (64, 4096), type \"<f4\">\n",
      "[0.01196477 0.0602169  0.0133359  ... 0.04917373 0.01320817 0.00042483]\n",
      "107 <HDF5 dataset \"107\": shape (64, 4096), type \"<f4\">\n",
      "[0.00462158 0.02370898 0.02887787 ... 0.003091   0.1117884  0.10356445]\n",
      "108 <HDF5 dataset \"108\": shape (64, 4096), type \"<f4\">\n",
      "[0.04077941 0.01015552 0.06800082 ... 0.00644282 0.01079652 0.01152173]\n",
      "109 <HDF5 dataset \"109\": shape (64, 4096), type \"<f4\">\n",
      "[0.01852641 0.00297827 0.00766204 ... 0.00832704 0.02722552 0.06120425]\n",
      "11 <HDF5 dataset \"11\": shape (64, 4096), type \"<f4\">\n",
      "[0.01807714 0.0194855  0.03408742 ... 0.00494328 0.04895637 0.0110582 ]\n",
      "12 <HDF5 dataset \"12\": shape (64, 4096), type \"<f4\">\n",
      "[0.00374294 0.02445185 0.02264544 ... 0.02510248 0.04035542 0.00786077]\n",
      "13 <HDF5 dataset \"13\": shape (64, 4096), type \"<f4\">\n",
      "[0.0019967  0.04729105 0.0101046  ... 0.01030938 0.03147359 0.09481952]\n",
      "14 <HDF5 dataset \"14\": shape (64, 4096), type \"<f4\">\n",
      "[0.01182427 0.07968594 0.081802   ... 0.04731551 0.00683622 0.00080152]\n",
      "15 <HDF5 dataset \"15\": shape (64, 4096), type \"<f4\">\n",
      "[0.01183926 0.05699297 0.02766843 ... 0.02422695 0.01518693 0.        ]\n",
      "16 <HDF5 dataset \"16\": shape (64, 4096), type \"<f4\">\n",
      "[0.00982177 0.02503473 0.05735003 ... 0.02203877 0.02831967 0.01778861]\n",
      "17 <HDF5 dataset \"17\": shape (16, 4096), type \"<f4\">\n",
      "[0.35106945 0.01691663 0.1030748  ... 0.02085737 0.00798392 0.0054662 ]\n",
      "18 <HDF5 dataset \"18\": shape (64, 4096), type \"<f4\">\n",
      "[0.00085858 0.04546776 0.05735039 ... 0.0107133  0.15183765 0.00163152]\n",
      "19 <HDF5 dataset \"19\": shape (64, 4096), type \"<f4\">\n",
      "[0.02469411 0.00543704 0.02170737 ... 0.00188557 0.02078903 0.04359077]\n",
      "2 <HDF5 dataset \"2\": shape (64, 4096), type \"<f4\">\n",
      "[0.00326544 0.08669583 0.01637618 ... 0.01657953 0.0178672  0.00226238]\n",
      "20 <HDF5 dataset \"20\": shape (64, 4096), type \"<f4\">\n",
      "[0.01191642 0.0308558  0.0362028  ... 0.04584739 0.06080789 0.00480574]\n",
      "21 <HDF5 dataset \"21\": shape (64, 4096), type \"<f4\">\n",
      "[0.00080373 0.03779037 0.04340321 ... 0.00706416 0.11666589 0.00638449]\n",
      "22 <HDF5 dataset \"22\": shape (64, 4096), type \"<f4\">\n",
      "[0.01038882 0.07454767 0.05939825 ... 0.05191127 0.06335174 0.00442151]\n",
      "23 <HDF5 dataset \"23\": shape (64, 4096), type \"<f4\">\n",
      "[0.00219126 0.05364101 0.02632676 ... 0.01653997 0.02388777 0.00902916]\n",
      "24 <HDF5 dataset \"24\": shape (64, 4096), type \"<f4\">\n",
      "[0.00024617 0.00607926 0.02835007 ... 0.01555071 0.00644871 0.00231864]\n",
      "25 <HDF5 dataset \"25\": shape (64, 4096), type \"<f4\">\n",
      "[0.02080787 0.02126983 0.01497153 ... 0.01096144 0.05762935 0.05111067]\n",
      "26 <HDF5 dataset \"26\": shape (64, 4096), type \"<f4\">\n",
      "[0.00246718 0.00816294 0.01209116 ... 0.03444057 0.04590558 0.02704039]\n",
      "27 <HDF5 dataset \"27\": shape (64, 4096), type \"<f4\">\n",
      "[0.00573939 0.00835417 0.01212298 ... 0.00724011 0.00887565 0.01772383]\n",
      "28 <HDF5 dataset \"28\": shape (52, 4096), type \"<f4\">\n",
      "[0.01248571 0.02051351 0.01855134 ... 0.03013811 0.01793098 0.05576286]\n",
      "29 <HDF5 dataset \"29\": shape (37, 4096), type \"<f4\">\n",
      "[0.13617294 0.03278857 0.02084674 ... 0.01191734 0.         0.0406225 ]\n",
      "3 <HDF5 dataset \"3\": shape (64, 4096), type \"<f4\">\n",
      "[0.01270346 0.00545028 0.01394587 ... 0.0276873  0.06602421 0.00796661]\n",
      "30 <HDF5 dataset \"30\": shape (54, 4096), type \"<f4\">\n",
      "[0.06190639 0.02650063 0.04338901 ... 0.03660742 0.00679523 0.01966429]\n",
      "31 <HDF5 dataset \"31\": shape (64, 4096), type \"<f4\">\n",
      "[0.10655814 0.01056378 0.06356324 ... 0.00760042 0.14333414 0.0141018 ]\n",
      "32 <HDF5 dataset \"32\": shape (64, 4096), type \"<f4\">\n",
      "[0.03183168 0.0382143  0.03013369 ... 0.025788   0.00794958 0.01704061]\n",
      "33 <HDF5 dataset \"33\": shape (64, 4096), type \"<f4\">\n",
      "[0.00117585 0.04571468 0.02908862 ... 0.01816751 0.03994703 0.03106741]\n",
      "34 <HDF5 dataset \"34\": shape (64, 4096), type \"<f4\">\n",
      "[0.01613847 0.0047018  0.00800376 ... 0.0401946  0.01729974 0.07464506]\n",
      "35 <HDF5 dataset \"35\": shape (64, 4096), type \"<f4\">\n",
      "[0.01780863 0.04692053 0.02763344 ... 0.03002645 0.05674386 0.01770407]\n",
      "36 <HDF5 dataset \"36\": shape (64, 4096), type \"<f4\">\n",
      "[0.         0.01151675 0.119034   ... 0.00554968 0.10410656 0.01612315]\n",
      "37 <HDF5 dataset \"37\": shape (64, 4096), type \"<f4\">\n",
      "[0.02466167 0.01729939 0.04149763 ... 0.01228109 0.07100634 0.01299546]\n",
      "38 <HDF5 dataset \"38\": shape (64, 4096), type \"<f4\">\n",
      "[0.00475934 0.06031803 0.04283521 ... 0.04416033 0.04710014 0.00458881]\n",
      "39 <HDF5 dataset \"39\": shape (64, 4096), type \"<f4\">\n",
      "[0.00017294 0.02335643 0.01506103 ... 0.01703598 0.04381201 0.04972716]\n",
      "4 <HDF5 dataset \"4\": shape (64, 4096), type \"<f4\">\n",
      "[0.00531408 0.00730774 0.03419241 ... 0.00897832 0.00235787 0.00868865]\n",
      "40 <HDF5 dataset \"40\": shape (64, 4096), type \"<f4\">\n",
      "[0.0160491  0.07473862 0.0144171  ... 0.0173505  0.00035514 0.00319092]\n",
      "41 <HDF5 dataset \"41\": shape (64, 4096), type \"<f4\">\n",
      "[0.01893877 0.01500846 0.03848543 ... 0.0185996  0.03359077 0.01801787]\n",
      "42 <HDF5 dataset \"42\": shape (64, 4096), type \"<f4\">\n",
      "[0.00430837 0.03302838 0.02538721 ... 0.02621925 0.05969169 0.02975749]\n",
      "43 <HDF5 dataset \"43\": shape (64, 4096), type \"<f4\">\n",
      "[0.01148363 0.04849685 0.0796321  ... 0.03435718 0.08832762 0.00013504]\n",
      "44 <HDF5 dataset \"44\": shape (64, 4096), type \"<f4\">\n",
      "[0.01122426 0.02886837 0.06010488 ... 0.03552531 0.00980998 0.        ]\n",
      "45 <HDF5 dataset \"45\": shape (64, 4096), type \"<f4\">\n",
      "[0.0196337  0.00157019 0.01427482 ... 0.00065803 0.05149474 0.03323742]\n",
      "46 <HDF5 dataset \"46\": shape (64, 4096), type \"<f4\">\n",
      "[0.0024565  0.01080165 0.01088361 ... 0.00921447 0.03747313 0.06387047]\n",
      "47 <HDF5 dataset \"47\": shape (64, 4096), type \"<f4\">\n",
      "[0.00284738 0.01258458 0.02228626 ... 0.00966375 0.05432783 0.01893301]\n",
      "48 <HDF5 dataset \"48\": shape (64, 4096), type \"<f4\">\n",
      "[0.00073896 0.04166083 0.03738074 ... 0.0035145  0.20459434 0.03220449]\n",
      "49 <HDF5 dataset \"49\": shape (64, 4096), type \"<f4\">\n",
      "[0.         0.00938656 0.05863328 ... 0.00010282 0.05586153 0.01260642]\n",
      "5 <HDF5 dataset \"5\": shape (51, 4096), type \"<f4\">\n",
      "[0.0218449  0.05523221 0.0420214  ... 0.07860744 0.00021066 0.01908438]\n",
      "50 <HDF5 dataset \"50\": shape (64, 4096), type \"<f4\">\n",
      "[0.0082594  0.06262756 0.04309989 ... 0.03863076 0.03907568 0.0021363 ]\n",
      "51 <HDF5 dataset \"51\": shape (64, 4096), type \"<f4\">\n",
      "[0.0075004  0.04129356 0.04771227 ... 0.0459866  0.00763042 0.00064999]\n",
      "52 <HDF5 dataset \"52\": shape (39, 4096), type \"<f4\">\n",
      "[0.00988386 0.02768827 0.05143918 ... 0.0343191  0.         0.00023366]\n",
      "53 <HDF5 dataset \"53\": shape (34, 4096), type \"<f4\">\n",
      "[0.0119566  0.01905489 0.026803   ... 0.         0.03120912 0.01469618]\n",
      "54 <HDF5 dataset \"54\": shape (64, 4096), type \"<f4\">\n",
      "[1.0037980e-05 3.8336344e-02 5.6922484e-02 ... 2.7660033e-02 1.9476835e-02\n",
      " 3.1728477e-03]\n",
      "55 <HDF5 dataset \"55\": shape (64, 4096), type \"<f4\">\n",
      "[0.01279478 0.01126732 0.04485608 ... 0.02021628 0.08841947 0.04096112]\n",
      "56 <HDF5 dataset \"56\": shape (64, 4096), type \"<f4\">\n",
      "[0.00558952 0.01380467 0.04131939 ... 0.01175174 0.02060746 0.01824184]\n",
      "57 <HDF5 dataset \"57\": shape (64, 4096), type \"<f4\">\n",
      "[0.0027205  0.06289942 0.02705715 ... 0.00948827 0.03231288 0.01508034]\n",
      "58 <HDF5 dataset \"58\": shape (64, 4096), type \"<f4\">\n",
      "[0.00238781 0.02644127 0.04785271 ... 0.00242741 0.05401799 0.01055469]\n",
      "59 <HDF5 dataset \"59\": shape (64, 4096), type \"<f4\">\n",
      "[0.00296224 0.00418387 0.04260365 ... 0.00147681 0.06919523 0.01288822]\n",
      "6 <HDF5 dataset \"6\": shape (64, 4096), type \"<f4\">\n",
      "[0.00243199 0.05738273 0.06850079 ... 0.01743567 0.05149791 0.00030862]\n",
      "60 <HDF5 dataset \"60\": shape (64, 4096), type \"<f4\">\n",
      "[0.01747088 0.01215072 0.01663841 ... 0.0063666  0.01067214 0.01216792]\n",
      "61 <HDF5 dataset \"61\": shape (64, 4096), type \"<f4\">\n",
      "[0.         0.0240415  0.02587993 ... 0.00826431 0.00249875 0.00222855]\n",
      "62 <HDF5 dataset \"62\": shape (64, 4096), type \"<f4\">\n",
      "[0.00942332 0.05586812 0.06515752 ... 0.02539891 0.08514673 0.00063219]\n",
      "63 <HDF5 dataset \"63\": shape (64, 4096), type \"<f4\">\n",
      "[0.01005281 0.06121475 0.01965714 ... 0.02591435 0.03268524 0.06917182]\n",
      "64 <HDF5 dataset \"64\": shape (64, 4096), type \"<f4\">\n",
      "[0.02266428 0.01872537 0.01717801 ... 0.01621468 0.02795129 0.00182208]\n",
      "65 <HDF5 dataset \"65\": shape (64, 4096), type \"<f4\">\n",
      "[0.00031399 0.00293868 0.01450874 ... 0.05222837 0.04354457 0.03026996]\n",
      "66 <HDF5 dataset \"66\": shape (64, 4096), type \"<f4\">\n"
     ]
    },
    {
     "name": "stdout",
     "output_type": "stream",
     "text": [
      "[0.01155159 0.0273391  0.05217311 ... 0.0092052  0.07958206 0.        ]\n",
      "67 <HDF5 dataset \"67\": shape (64, 4096), type \"<f4\">\n",
      "[0.00209584 0.03114202 0.03732676 ... 0.00646941 0.09751507 0.05028123]\n",
      "68 <HDF5 dataset \"68\": shape (64, 4096), type \"<f4\">\n",
      "[0.00352141 0.00455324 0.01280629 ... 0.05260136 0.04095691 0.01411786]\n",
      "69 <HDF5 dataset \"69\": shape (60, 4096), type \"<f4\">\n",
      "[0.02216128 0.00129647 0.00955258 ... 0.00997459 0.05015583 0.08149929]\n",
      "7 <HDF5 dataset \"7\": shape (64, 4096), type \"<f4\">\n",
      "[0.00065476 0.02210393 0.03146643 ... 0.01933616 0.05741847 0.00443231]\n",
      "70 <HDF5 dataset \"70\": shape (64, 4096), type \"<f4\">\n",
      "[0.00304956 0.0388763  0.01408199 ... 0.03009582 0.08892425 0.02245906]\n",
      "71 <HDF5 dataset \"71\": shape (64, 4096), type \"<f4\">\n",
      "[0.01167964 0.07501193 0.05936682 ... 0.04207942 0.10900062 0.03634388]\n",
      "72 <HDF5 dataset \"72\": shape (64, 4096), type \"<f4\">\n",
      "[0.01331689 0.02467094 0.04291793 ... 0.00207457 0.0928617  0.04131328]\n",
      "73 <HDF5 dataset \"73\": shape (64, 4096), type \"<f4\">\n",
      "[3.7241496e-02 4.8934966e-03 1.3737707e-02 ... 8.6106054e-05 2.7682947e-02\n",
      " 8.2901999e-02]\n",
      "74 <HDF5 dataset \"74\": shape (64, 4096), type \"<f4\">\n",
      "[0.02456271 0.03697176 0.04379197 ... 0.01011286 0.0539921  0.0029647 ]\n",
      "75 <HDF5 dataset \"75\": shape (64, 4096), type \"<f4\">\n",
      "[0.0001642  0.0116427  0.00998849 ... 0.00494368 0.01219886 0.00783719]\n",
      "76 <HDF5 dataset \"76\": shape (64, 4096), type \"<f4\">\n",
      "[0.01578231 0.01792574 0.02225158 ... 0.00293658 0.01998205 0.05270968]\n",
      "77 <HDF5 dataset \"77\": shape (64, 4096), type \"<f4\">\n",
      "[0.01971254 0.08616217 0.07416149 ... 0.03134286 0.04883683 0.00085936]\n",
      "78 <HDF5 dataset \"78\": shape (64, 4096), type \"<f4\">\n",
      "[0.01849113 0.03334037 0.00702087 ... 0.03716405 0.         0.04803609]\n",
      "79 <HDF5 dataset \"79\": shape (64, 4096), type \"<f4\">\n",
      "[0.00547607 0.00713597 0.01811033 ... 0.0156977  0.04496281 0.01913736]\n",
      "8 <HDF5 dataset \"8\": shape (64, 4096), type \"<f4\">\n",
      "[0.00634753 0.02311823 0.09095256 ... 0.02691631 0.03929773 0.00123073]\n",
      "80 <HDF5 dataset \"80\": shape (64, 4096), type \"<f4\">\n",
      "[0.00373062 0.06179071 0.02694006 ... 0.00087304 0.08220245 0.00385355]\n",
      "81 <HDF5 dataset \"81\": shape (64, 4096), type \"<f4\">\n",
      "[0.00291044 0.00773992 0.0436129  ... 0.01309148 0.04330659 0.03056449]\n",
      "82 <HDF5 dataset \"82\": shape (64, 4096), type \"<f4\">\n",
      "[0.05980613 0.02018607 0.00661441 ... 0.02273525 0.05691823 0.00903652]\n",
      "83 <HDF5 dataset \"83\": shape (64, 4096), type \"<f4\">\n",
      "[0.00652122 0.06292195 0.02301265 ... 0.02700574 0.09540554 0.00681504]\n",
      "84 <HDF5 dataset \"84\": shape (64, 4096), type \"<f4\">\n",
      "[0.00064665 0.02699163 0.03532419 ... 0.00977742 0.03222451 0.01315766]\n",
      "85 <HDF5 dataset \"85\": shape (64, 4096), type \"<f4\">\n",
      "[0.02082532 0.07398532 0.04193233 ... 0.02767608 0.07926197 0.00111785]\n",
      "86 <HDF5 dataset \"86\": shape (64, 4096), type \"<f4\">\n",
      "[0.00161643 0.00247185 0.01184422 ... 0.01871042 0.01140752 0.00950589]\n",
      "87 <HDF5 dataset \"87\": shape (64, 4096), type \"<f4\">\n",
      "[0.0036035  0.0412043  0.03306972 ... 0.0433915  0.04372083 0.00579461]\n",
      "88 <HDF5 dataset \"88\": shape (64, 4096), type \"<f4\">\n",
      "[0.00116069 0.00440802 0.01128707 ... 0.0201991  0.05853713 0.18913597]\n",
      "89 <HDF5 dataset \"89\": shape (64, 4096), type \"<f4\">\n",
      "[0.00159477 0.01656564 0.09464251 ... 0.00919147 0.14694062 0.        ]\n",
      "9 <HDF5 dataset \"9\": shape (64, 4096), type \"<f4\">\n",
      "[0.00538598 0.01125399 0.0857147  ... 0.00901473 0.03846798 0.00405931]\n",
      "90 <HDF5 dataset \"90\": shape (64, 4096), type \"<f4\">\n",
      "[0.         0.02160438 0.005084   ... 0.0025311  0.24093686 0.3292265 ]\n",
      "91 <HDF5 dataset \"91\": shape (64, 4096), type \"<f4\">\n",
      "[0.02119518 0.00203138 0.02656906 ... 0.0010419  0.07183288 0.10681282]\n",
      "92 <HDF5 dataset \"92\": shape (64, 4096), type \"<f4\">\n",
      "[0.00290517 0.07361211 0.02963174 ... 0.09079274 0.00567557 0.00810541]\n",
      "93 <HDF5 dataset \"93\": shape (64, 4096), type \"<f4\">\n",
      "[0.0146761  0.01073791 0.03144075 ... 0.00200259 0.0289504  0.01076755]\n",
      "94 <HDF5 dataset \"94\": shape (64, 4096), type \"<f4\">\n",
      "[0.02428913 0.02955012 0.02302543 ... 0.04226085 0.01078041 0.01279673]\n",
      "95 <HDF5 dataset \"95\": shape (64, 4096), type \"<f4\">\n",
      "[0.00174021 0.0072806  0.02152841 ... 0.02090451 0.04203475 0.00215427]\n",
      "96 <HDF5 dataset \"96\": shape (64, 4096), type \"<f4\">\n",
      "[0.00177632 0.01284475 0.0415263  ... 0.02812566 0.07051561 0.01214933]\n",
      "97 <HDF5 dataset \"97\": shape (64, 4096), type \"<f4\">\n",
      "[0.08071323 0.00877062 0.04451927 ... 0.00863161 0.00621516 0.01907484]\n",
      "98 <HDF5 dataset \"98\": shape (64, 4096), type \"<f4\">\n",
      "[0.00661657 0.02773103 0.0252541  ... 0.02024628 0.06522178 0.00651235]\n",
      "99 <HDF5 dataset \"99\": shape (64, 4096), type \"<f4\">\n",
      "[0.0005707  0.04520069 0.02780732 ... 0.01296605 0.03116058 0.01964986]\n"
     ]
    }
   ],
   "source": [
    "for k, v in VIST_example_obj_fmap.items():\n",
    "    print (k,v)\n",
    "    print (np.average(v, axis=0))"
   ]
  },
  {
   "cell_type": "code",
   "execution_count": null,
   "metadata": {},
   "outputs": [],
   "source": []
  },
  {
   "cell_type": "code",
   "execution_count": null,
   "metadata": {},
   "outputs": [],
   "source": []
  },
  {
   "cell_type": "code",
   "execution_count": 24,
   "metadata": {},
   "outputs": [],
   "source": [
    "VIST_example_fmap.close()\n",
    "VIST_example_obj_fmap.close()"
   ]
  },
  {
   "cell_type": "code",
   "execution_count": null,
   "metadata": {},
   "outputs": [],
   "source": []
  },
  {
   "cell_type": "code",
   "execution_count": null,
   "metadata": {},
   "outputs": [],
   "source": []
  },
  {
   "cell_type": "code",
   "execution_count": 25,
   "metadata": {},
   "outputs": [],
   "source": [
    "VIST_train_obj_fmap = h5py.File('VIST_train_obj_fmap.h5', 'r')\n",
    "VIST_valid_obj_fmap = h5py.File('VIST_val_obj_fmap.h5', 'r')\n",
    "VIST_test_obj_fmap = h5py.File('VIST_test_obj_fmap.h5', 'r')"
   ]
  },
  {
   "cell_type": "code",
   "execution_count": 26,
   "metadata": {},
   "outputs": [],
   "source": [
    "import json\n",
    "with open('../data/vist_train/VIST_image_data.json', 'r') as f:\n",
    "    train_idx2flickrID = json.load(f)\n",
    "with open('../data/vist_val/VIST_image_data.json', 'r') as f:\n",
    "    val_idx2flickrID = json.load(f)\n",
    "with open('../data/vist_test/VIST_image_data.json', 'r') as f:\n",
    "    test_idx2flickrID = json.load(f)"
   ]
  },
  {
   "cell_type": "code",
   "execution_count": null,
   "metadata": {},
   "outputs": [],
   "source": []
  },
  {
   "cell_type": "code",
   "execution_count": 28,
   "metadata": {},
   "outputs": [],
   "source": [
    "paired_list = [\n",
    "    (VIST_train_obj_fmap, train_idx2flickrID), \n",
    "    (VIST_valid_obj_fmap, val_idx2flickrID), \n",
    "    (VIST_test_obj_fmap, test_idx2flickrID)\n",
    "]"
   ]
  },
  {
   "cell_type": "code",
   "execution_count": 31,
   "metadata": {},
   "outputs": [],
   "source": [
    "VIST_all_global = {}\n",
    "for obj_map, idx2flickrID in paired_list:\n",
    "    for k, v in obj_map.items():\n",
    "        flickrID = idx2flickrID[int(k)]['flickr_id']\n",
    "#         print (k, flickrID)\n",
    "        global_feat = np.average(v, axis=0)\n",
    "        VIST_all_global[flickrID] = global_feat\n"
   ]
  },
  {
   "cell_type": "code",
   "execution_count": 32,
   "metadata": {},
   "outputs": [
    {
     "data": {
      "text/plain": [
       "209038"
      ]
     },
     "execution_count": 32,
     "metadata": {},
     "output_type": "execute_result"
    }
   ],
   "source": [
    "len(VIST_all_global)\n",
    "\n"
   ]
  },
  {
   "cell_type": "code",
   "execution_count": null,
   "metadata": {},
   "outputs": [],
   "source": []
  },
  {
   "cell_type": "code",
   "execution_count": null,
   "metadata": {},
   "outputs": [],
   "source": []
  },
  {
   "cell_type": "code",
   "execution_count": 16,
   "metadata": {},
   "outputs": [],
   "source": [
    "# for k, v in VIST_valid_obj_fmap.items():\n",
    "#     global_feat = np.average(v, axis=0)\n",
    "#     VIST_all_global[k] = global_feat\n",
    "    "
   ]
  },
  {
   "cell_type": "code",
   "execution_count": 33,
   "metadata": {},
   "outputs": [
    {
     "data": {
      "text/plain": [
       "209038"
      ]
     },
     "execution_count": 33,
     "metadata": {},
     "output_type": "execute_result"
    }
   ],
   "source": [
    "len(VIST_all_global)"
   ]
  },
  {
   "cell_type": "code",
   "execution_count": null,
   "metadata": {},
   "outputs": [],
   "source": []
  },
  {
   "cell_type": "code",
   "execution_count": 34,
   "metadata": {},
   "outputs": [],
   "source": [
    "# for k, v in VIST_test_obj_fmap.items():\n",
    "#     global_feat = np.average(v, axis=0)\n",
    "#     VIST_all_global[k] = global_feat\n",
    "    "
   ]
  },
  {
   "cell_type": "code",
   "execution_count": 35,
   "metadata": {},
   "outputs": [
    {
     "data": {
      "text/plain": [
       "209038"
      ]
     },
     "execution_count": 35,
     "metadata": {},
     "output_type": "execute_result"
    }
   ],
   "source": [
    "len(VIST_all_global)"
   ]
  },
  {
   "cell_type": "code",
   "execution_count": null,
   "metadata": {},
   "outputs": [],
   "source": []
  },
  {
   "cell_type": "code",
   "execution_count": 36,
   "metadata": {},
   "outputs": [],
   "source": [
    "# for k, v in VIST_train_obj_fmap.items():\n",
    "#     global_feat = np.average(v, axis=0)\n",
    "#     VIST_all_global[k] = global_feat\n",
    "    "
   ]
  },
  {
   "cell_type": "code",
   "execution_count": 37,
   "metadata": {},
   "outputs": [
    {
     "data": {
      "text/plain": [
       "209038"
      ]
     },
     "execution_count": 37,
     "metadata": {},
     "output_type": "execute_result"
    }
   ],
   "source": [
    "len(VIST_all_global)"
   ]
  },
  {
   "cell_type": "code",
   "execution_count": 38,
   "metadata": {},
   "outputs": [
    {
     "data": {
      "text/plain": [
       "'1176709'"
      ]
     },
     "execution_count": 38,
     "metadata": {},
     "output_type": "execute_result"
    }
   ],
   "source": [
    "list(VIST_all_global.keys())[200]"
   ]
  },
  {
   "cell_type": "code",
   "execution_count": 40,
   "metadata": {},
   "outputs": [],
   "source": [
    "import pickle\n",
    "with open('VIST_all_avg.pkl', 'wb') as f: \n",
    "    pickle.dump(VIST_all_global, f, protocol=2)"
   ]
  },
  {
   "cell_type": "code",
   "execution_count": null,
   "metadata": {},
   "outputs": [],
   "source": []
  }
 ],
 "metadata": {
  "kernelspec": {
   "display_name": "Python 3",
   "language": "python",
   "name": "python3"
  },
  "language_info": {
   "codemirror_mode": {
    "name": "ipython",
    "version": 3
   },
   "file_extension": ".py",
   "mimetype": "text/x-python",
   "name": "python",
   "nbconvert_exporter": "python",
   "pygments_lexer": "ipython3",
   "version": "3.6.10"
  }
 },
 "nbformat": 4,
 "nbformat_minor": 2
}
